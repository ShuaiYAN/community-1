{
 "metadata": {
  "name": "",
  "signature": "sha256:50068799e3012869a1f79b8ccf47894c2c4498f4c1b77c6fcebabb21d91d2281"
 },
 "nbformat": 3,
 "nbformat_minor": 0,
 "worksheets": [
  {
   "cells": [
    {
     "cell_type": "code",
     "collapsed": false,
     "input": [
      "import networkx as nx\n",
      "from community import *\n",
      "import numpy as np\n",
      "from analysis import *\n",
      "\n",
      "file_name = \"data/amazon/com-amazon.\""
     ],
     "language": "python",
     "metadata": {},
     "outputs": [],
     "prompt_number": 1
    },
    {
     "cell_type": "code",
     "collapsed": false,
     "input": [
      "with open(file_name + \"ungraph.txt\", \"rb\") as f:\n",
      "    G = nx.read_adjlist(f, nodetype=int)"
     ],
     "language": "python",
     "metadata": {},
     "outputs": [],
     "prompt_number": 2
    },
    {
     "cell_type": "code",
     "collapsed": false,
     "input": [
      "communities = read_communities(file_name + \"all.cmty.txt\", G)"
     ],
     "language": "python",
     "metadata": {},
     "outputs": [],
     "prompt_number": 3
    },
    {
     "cell_type": "code",
     "collapsed": false,
     "input": [
      "alpha = 1.2\n",
      "beta = 0.8\n",
      "epsilon = 0.05"
     ],
     "language": "python",
     "metadata": {},
     "outputs": [],
     "prompt_number": 4
    },
    {
     "cell_type": "code",
     "collapsed": false,
     "input": [
      "c = communities[20]\n",
      "ns = c.subgraph.nodes()\n",
      "print ns"
     ],
     "language": "python",
     "metadata": {},
     "outputs": [
      {
       "output_type": "stream",
       "stream": "stdout",
       "text": [
        "[260552, 6909, 542245]\n"
       ]
      }
     ],
     "prompt_number": 15
    },
    {
     "cell_type": "code",
     "collapsed": false,
     "input": [
      "seed = ns[np.random.randint(len(ns))]\n",
      "print seed"
     ],
     "language": "python",
     "metadata": {},
     "outputs": [
      {
       "output_type": "stream",
       "stream": "stdout",
       "text": [
        "6909\n"
       ]
      }
     ],
     "prompt_number": 16
    },
    {
     "cell_type": "code",
     "collapsed": false,
     "input": [
      "founded = detect_community(G, seed, beta, epsilon, alpha)\n",
      "print \"Founded: \", founded.subgraph.nodes()"
     ],
     "language": "python",
     "metadata": {},
     "outputs": [
      {
       "output_type": "stream",
       "stream": "stdout",
       "text": [
        "Founded:  [431140, 542245, 224518, 260552, 257422, 186489, 89980, 6909]\n"
       ]
      }
     ],
     "prompt_number": 17
    },
    {
     "cell_type": "code",
     "collapsed": false,
     "input": [
      "epsilon = 0.0001"
     ],
     "language": "python",
     "metadata": {},
     "outputs": [],
     "prompt_number": 13
    },
    {
     "cell_type": "code",
     "collapsed": false,
     "input": [
      "founded = detect_community(G, seed, beta, epsilon, alpha)\n",
      "print \"Founded: \", founded.subgraph.nodes()"
     ],
     "language": "python",
     "metadata": {},
     "outputs": [
      {
       "output_type": "stream",
       "stream": "stdout",
       "text": [
        "Founded:  [546690, 548361, 545939, 545940, 232086, 18462, 168480, 546081, 548392, 85419, 101804, 238900, 158135, 125368, 534206, 117702, 145232, 216120, 166871, 544361, 61034, 144495, 546800, 144498, 493044, 178298, 544766]\n"
       ]
      }
     ],
     "prompt_number": 14
    },
    {
     "cell_type": "code",
     "collapsed": false,
     "input": [],
     "language": "python",
     "metadata": {},
     "outputs": []
    }
   ],
   "metadata": {}
  }
 ]
}